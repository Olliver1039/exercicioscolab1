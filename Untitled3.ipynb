{
  "nbformat": 4,
  "nbformat_minor": 0,
  "metadata": {
    "colab": {
      "provenance": []
    },
    "kernelspec": {
      "name": "python3",
      "display_name": "Python 3"
    },
    "language_info": {
      "name": "python"
    }
  },
  "cells": [
    {
      "cell_type": "code",
      "source": [
        "def encontrar_maior_numero():\n",
        "    numeros = []\n",
        "    for i in range(5):\n",
        "        numero = float(input(f\"Digite o {i + 1}º número: \"))\n",
        "        numeros.append(numero)\n",
        "    maior_numero = max(numeros)\n",
        "    print(f\"O maior número digitado é: {maior_numero}\")\n",
        "\n",
        "encontrar_maior_numero()"
      ],
      "metadata": {
        "colab": {
          "base_uri": "https://localhost:8080/"
        },
        "id": "evRVBVZXOV-I",
        "outputId": "5e8e4484-6133-4491-938f-685a63423b72"
      },
      "execution_count": null,
      "outputs": [
        {
          "output_type": "stream",
          "name": "stdout",
          "text": [
            "Digite o 1º número: 3\n",
            "Digite o 2º número: 65\n",
            "Digite o 3º número: 3\n",
            "Digite o 4º número: 75\n",
            "Digite o 5º número: 4\n",
            "O maior número digitado é: 75.0\n"
          ]
        }
      ]
    },
    {
      "cell_type": "code",
      "source": [
        "def verificar_numeros():\n",
        "    numeros = []\n",
        "    for numero in range(1000, 2001):\n",
        "        if numero % 11 == 2:\n",
        "            numeros.append(numero)\n",
        "\n",
        "    if len(numeros) > 0:\n",
        "        print(\"Os números entre 1000 e 2000 que, quando divididos por 11, produzem resto igual a 2 são:\")\n",
        "        print(numeros)\n",
        "    else:\n",
        "        print(\"Não há números entre 1000 e 2000 que, quando divididos por 11, produzem resto igual a 2.\")\n",
        "\n",
        "verificar_numeros()"
      ],
      "metadata": {
        "colab": {
          "base_uri": "https://localhost:8080/"
        },
        "id": "nenQJNFzPP-i",
        "outputId": "29008f6c-9d9f-41b6-f844-0c93f80d8c47"
      },
      "execution_count": null,
      "outputs": [
        {
          "output_type": "stream",
          "name": "stdout",
          "text": [
            "Os números entre 1000 e 2000 que, quando divididos por 11, produzem resto igual a 2 são:\n",
            "[1003, 1014, 1025, 1036, 1047, 1058, 1069, 1080, 1091, 1102, 1113, 1124, 1135, 1146, 1157, 1168, 1179, 1190, 1201, 1212, 1223, 1234, 1245, 1256, 1267, 1278, 1289, 1300, 1311, 1322, 1333, 1344, 1355, 1366, 1377, 1388, 1399, 1410, 1421, 1432, 1443, 1454, 1465, 1476, 1487, 1498, 1509, 1520, 1531, 1542, 1553, 1564, 1575, 1586, 1597, 1608, 1619, 1630, 1641, 1652, 1663, 1674, 1685, 1696, 1707, 1718, 1729, 1740, 1751, 1762, 1773, 1784, 1795, 1806, 1817, 1828, 1839, 1850, 1861, 1872, 1883, 1894, 1905, 1916, 1927, 1938, 1949, 1960, 1971, 1982, 1993]\n"
          ]
        }
      ]
    },
    {
      "cell_type": "code",
      "source": [
        "def calcular_tabuada(numero):\n",
        "    print(f\"Tabuada do {numero}:\")\n",
        "    for i in range(1, 11):\n",
        "        resultado = numero * i\n",
        "        print(f\"{numero} x {i} = {resultado}\")\n",
        "\n",
        "def main():\n",
        "    numero = int(input(\"Digite um número para ver a tabuada: \"))\n",
        "    calcular_tabuada(numero)\n",
        "\n",
        "main()"
      ],
      "metadata": {
        "colab": {
          "base_uri": "https://localhost:8080/"
        },
        "id": "twTnf_ZRPkz9",
        "outputId": "6a5758c2-508e-4292-c092-64091a999e04"
      },
      "execution_count": null,
      "outputs": [
        {
          "output_type": "stream",
          "name": "stdout",
          "text": [
            "Digite um número para ver a tabuada: 2\n",
            "Tabuada do 2:\n",
            "2 x 1 = 2\n",
            "2 x 2 = 4\n",
            "2 x 3 = 6\n",
            "2 x 4 = 8\n",
            "2 x 5 = 10\n",
            "2 x 6 = 12\n",
            "2 x 7 = 14\n",
            "2 x 8 = 16\n",
            "2 x 9 = 18\n",
            "2 x 10 = 20\n"
          ]
        }
      ]
    },
    {
      "cell_type": "code",
      "source": [
        "def mostrar_tabuadas():\n",
        "    for numero in range(1, 11):\n",
        "        print(f\"Tabuada do {numero}:\")\n",
        "        for multiplicador in range(1, 11):\n",
        "            resultado = numero * multiplicador\n",
        "            print(f\"{numero} x {multiplicador} = {resultado}\")\n",
        "        print()  # Adiciona uma linha em branco entre as tabuadas\n",
        "\n",
        "mostrar_tabuadas()"
      ],
      "metadata": {
        "colab": {
          "base_uri": "https://localhost:8080/"
        },
        "id": "C7Jdh7AVQmQE",
        "outputId": "746866f6-ef43-482f-d171-71039faf1f3c"
      },
      "execution_count": null,
      "outputs": [
        {
          "output_type": "stream",
          "name": "stdout",
          "text": [
            "Tabuada do 1:\n",
            "1 x 1 = 1\n",
            "1 x 2 = 2\n",
            "1 x 3 = 3\n",
            "1 x 4 = 4\n",
            "1 x 5 = 5\n",
            "1 x 6 = 6\n",
            "1 x 7 = 7\n",
            "1 x 8 = 8\n",
            "1 x 9 = 9\n",
            "1 x 10 = 10\n",
            "\n",
            "Tabuada do 2:\n",
            "2 x 1 = 2\n",
            "2 x 2 = 4\n",
            "2 x 3 = 6\n",
            "2 x 4 = 8\n",
            "2 x 5 = 10\n",
            "2 x 6 = 12\n",
            "2 x 7 = 14\n",
            "2 x 8 = 16\n",
            "2 x 9 = 18\n",
            "2 x 10 = 20\n",
            "\n",
            "Tabuada do 3:\n",
            "3 x 1 = 3\n",
            "3 x 2 = 6\n",
            "3 x 3 = 9\n",
            "3 x 4 = 12\n",
            "3 x 5 = 15\n",
            "3 x 6 = 18\n",
            "3 x 7 = 21\n",
            "3 x 8 = 24\n",
            "3 x 9 = 27\n",
            "3 x 10 = 30\n",
            "\n",
            "Tabuada do 4:\n",
            "4 x 1 = 4\n",
            "4 x 2 = 8\n",
            "4 x 3 = 12\n",
            "4 x 4 = 16\n",
            "4 x 5 = 20\n",
            "4 x 6 = 24\n",
            "4 x 7 = 28\n",
            "4 x 8 = 32\n",
            "4 x 9 = 36\n",
            "4 x 10 = 40\n",
            "\n",
            "Tabuada do 5:\n",
            "5 x 1 = 5\n",
            "5 x 2 = 10\n",
            "5 x 3 = 15\n",
            "5 x 4 = 20\n",
            "5 x 5 = 25\n",
            "5 x 6 = 30\n",
            "5 x 7 = 35\n",
            "5 x 8 = 40\n",
            "5 x 9 = 45\n",
            "5 x 10 = 50\n",
            "\n",
            "Tabuada do 6:\n",
            "6 x 1 = 6\n",
            "6 x 2 = 12\n",
            "6 x 3 = 18\n",
            "6 x 4 = 24\n",
            "6 x 5 = 30\n",
            "6 x 6 = 36\n",
            "6 x 7 = 42\n",
            "6 x 8 = 48\n",
            "6 x 9 = 54\n",
            "6 x 10 = 60\n",
            "\n",
            "Tabuada do 7:\n",
            "7 x 1 = 7\n",
            "7 x 2 = 14\n",
            "7 x 3 = 21\n",
            "7 x 4 = 28\n",
            "7 x 5 = 35\n",
            "7 x 6 = 42\n",
            "7 x 7 = 49\n",
            "7 x 8 = 56\n",
            "7 x 9 = 63\n",
            "7 x 10 = 70\n",
            "\n",
            "Tabuada do 8:\n",
            "8 x 1 = 8\n",
            "8 x 2 = 16\n",
            "8 x 3 = 24\n",
            "8 x 4 = 32\n",
            "8 x 5 = 40\n",
            "8 x 6 = 48\n",
            "8 x 7 = 56\n",
            "8 x 8 = 64\n",
            "8 x 9 = 72\n",
            "8 x 10 = 80\n",
            "\n",
            "Tabuada do 9:\n",
            "9 x 1 = 9\n",
            "9 x 2 = 18\n",
            "9 x 3 = 27\n",
            "9 x 4 = 36\n",
            "9 x 5 = 45\n",
            "9 x 6 = 54\n",
            "9 x 7 = 63\n",
            "9 x 8 = 72\n",
            "9 x 9 = 81\n",
            "9 x 10 = 90\n",
            "\n",
            "Tabuada do 10:\n",
            "10 x 1 = 10\n",
            "10 x 2 = 20\n",
            "10 x 3 = 30\n",
            "10 x 4 = 40\n",
            "10 x 5 = 50\n",
            "10 x 6 = 60\n",
            "10 x 7 = 70\n",
            "10 x 8 = 80\n",
            "10 x 9 = 90\n",
            "10 x 10 = 100\n",
            "\n"
          ]
        }
      ]
    },
    {
      "cell_type": "code",
      "source": [
        "def imprimir_numeros_em_linha():\n",
        "    for numero in range(1, 21):\n",
        "        print(numero, end=' ')\n",
        "\n",
        "imprimir_numeros_em_linha()"
      ],
      "metadata": {
        "colab": {
          "base_uri": "https://localhost:8080/"
        },
        "id": "cE7t5YL5Qn2h",
        "outputId": "befd72e8-d4d5-4dd2-a8af-3a9bce8ffda9"
      },
      "execution_count": null,
      "outputs": [
        {
          "output_type": "stream",
          "name": "stdout",
          "text": [
            "1 2 3 4 5 6 7 8 9 10 11 12 13 14 15 16 17 18 19 20 "
          ]
        }
      ]
    },
    {
      "cell_type": "code",
      "source": [
        "def imprimir_impares():\n",
        "    print(\"Números ímpares entre 1 e 50:\")\n",
        "    for numero in range(1, 51):\n",
        "        if numero % 2 != 0:\n",
        "            print(numero)\n",
        "\n",
        "imprimir_impares()"
      ],
      "metadata": {
        "colab": {
          "base_uri": "https://localhost:8080/"
        },
        "id": "frdZysp4REJk",
        "outputId": "08b88a43-ffd2-4a80-e022-58f0696cb713"
      },
      "execution_count": null,
      "outputs": [
        {
          "output_type": "stream",
          "name": "stdout",
          "text": [
            "Números ímpares entre 1 e 50:\n",
            "1\n",
            "3\n",
            "5\n",
            "7\n",
            "9\n",
            "11\n",
            "13\n",
            "15\n",
            "17\n",
            "19\n",
            "21\n",
            "23\n",
            "25\n",
            "27\n",
            "29\n",
            "31\n",
            "33\n",
            "35\n",
            "37\n",
            "39\n",
            "41\n",
            "43\n",
            "45\n",
            "47\n",
            "49\n"
          ]
        }
      ]
    },
    {
      "cell_type": "code",
      "source": [
        "def gerar_intervalo(num1, num2):\n",
        "    inicio = min(num1, num2)\n",
        "    fim = max(num1, num2)\n",
        "\n",
        "    print(f\"Números no intervalo entre {inicio} e {fim}:\")\n",
        "    for numero in range(inicio, fim + 1):\n",
        "        print(numero, end=' ')\n",
        "\n",
        "# Solicita ao usuário que insira dois números inteiros\n",
        "numero1 = int(input(\"Digite o primeiro número inteiro: \"))\n",
        "numero2 = int(input(\"Digite o segundo número inteiro: \"))\n",
        "\n",
        "# Chama a função para gerar o intervalo entre os números fornecidos\n",
        "gerar_intervalo(numero1, numero2)"
      ],
      "metadata": {
        "colab": {
          "base_uri": "https://localhost:8080/"
        },
        "id": "o3qiPlNjRH1X",
        "outputId": "cdbcf25c-74b6-453d-cd06-76c9db9767ac"
      },
      "execution_count": null,
      "outputs": [
        {
          "output_type": "stream",
          "name": "stdout",
          "text": [
            "Digite o primeiro número inteiro: 4\n",
            "Digite o segundo número inteiro: 3\n",
            "Números no intervalo entre 3 e 4:\n",
            "3 4 "
          ]
        }
      ]
    },
    {
      "cell_type": "code",
      "source": [
        "def calcular_faturamento():\n",
        "    faturamento_total = 0\n",
        "    for i in range(5):\n",
        "        faturamento_cliente = float(input(f\"Digite o faturamento do cliente {i + 1}: R$ \"))\n",
        "        faturamento_total += faturamento_cliente\n",
        "\n",
        "    faturamento_loja_b = 54000\n",
        "    if faturamento_total > faturamento_loja_b:\n",
        "        diferenca = faturamento_total - faturamento_loja_b\n",
        "        print(f\"O faturamento total da loja foi superior à loja B em R$ {diferenca:.2f}.\")\n",
        "    else:\n",
        "        print(\"O faturamento total da loja não atingiu o faturamento da loja B.\")\n",
        "\n",
        "calcular_faturamento()"
      ],
      "metadata": {
        "colab": {
          "base_uri": "https://localhost:8080/"
        },
        "id": "i_90qAZASAhh",
        "outputId": "21299bc5-2847-4ccd-db8b-a2408cadf832"
      },
      "execution_count": null,
      "outputs": [
        {
          "output_type": "stream",
          "name": "stdout",
          "text": [
            "Digite o faturamento do cliente 1: R$ 2000\n",
            "Digite o faturamento do cliente 2: R$ 54000\n",
            "Digite o faturamento do cliente 3: R$ 89000\n",
            "Digite o faturamento do cliente 4: R$ 1000\n",
            "Digite o faturamento do cliente 5: R$ 3000\n",
            "O faturamento total da loja foi superior à loja B em R$ 95000.00.\n"
          ]
        }
      ]
    },
    {
      "cell_type": "code",
      "source": [
        "def contar_pares_impares():\n",
        "    numeros_pares = 0\n",
        "    numeros_impares = 0\n",
        "\n",
        "    for i in range(10):\n",
        "        numero = int(input(f\"Digite o {i + 1}º número inteiro: \"))\n",
        "        if numero % 2 == 0:\n",
        "            numeros_pares += 1\n",
        "        else:\n",
        "            numeros_impares += 1\n",
        "\n",
        "    print(f\"Quantidade de números pares: {numeros_pares}\")\n",
        "    print(f\"Quantidade de números ímpares: {numeros_impares}\")\n",
        "\n",
        "contar_pares_impares()"
      ],
      "metadata": {
        "colab": {
          "base_uri": "https://localhost:8080/"
        },
        "id": "BVUjj-g9SX41",
        "outputId": "61782a8c-f37a-4ec9-b4d4-2fe8955bbcb1"
      },
      "execution_count": null,
      "outputs": [
        {
          "output_type": "stream",
          "name": "stdout",
          "text": [
            "Digite o 1º número inteiro: 3\n",
            "Digite o 2º número inteiro: 4\n",
            "Digite o 3º número inteiro: -1\n",
            "Digite o 4º número inteiro: -3\n",
            "Digite o 5º número inteiro: -4\n",
            "Digite o 6º número inteiro: 7\n",
            "Digite o 7º número inteiro: 9\n",
            "Digite o 8º número inteiro: 1\n",
            "Digite o 9º número inteiro: -4\n",
            "Digite o 10º número inteiro: -2\n",
            "Quantidade de números pares: 4\n",
            "Quantidade de números ímpares: 6\n"
          ]
        }
      ]
    },
    {
      "cell_type": "code",
      "source": [
        "def calcular_salario_atual(salario_inicial):\n",
        "    salario = salario_inicial\n",
        "    percentual_aumento = 1.5 / 100  # 1.5%\n",
        "\n",
        "    # Aumento a partir de 1996\n",
        "    for ano in range(1996, 2023):  # Vamos até 2022 para calcular até o salário de 2023\n",
        "        aumento = salario * percentual_aumento\n",
        "        salario += aumento\n",
        "        percentual_aumento *= 2  # O dobro do percentual do ano anterior\n",
        "\n",
        "    return salario\n",
        "\n",
        "salario_inicial = float(input(\"Digite o salário inicial do funcionário em 1995: \"))\n",
        "salario_atual = calcular_salario_atual(salario_inicial)\n",
        "print(f\"O salário atual do funcionário é R$ {salario_atual:.2f}\")"
      ],
      "metadata": {
        "colab": {
          "base_uri": "https://localhost:8080/"
        },
        "id": "9CiGxG89TLY5",
        "outputId": "e781f164-bdc7-45a0-e99d-e85e15c08db5"
      },
      "execution_count": null,
      "outputs": [
        {
          "output_type": "stream",
          "name": "stdout",
          "text": [
            "Digite o salário inicial do funcionário em 1995: 100\n",
            "O salário atual do funcionário é R$ 799115322428412730168047360714676118674586182553182360533045608448.00\n"
          ]
        }
      ]
    },
    {
      "cell_type": "code",
      "source": [
        "def verificar_nota():\n",
        "    while True:\n",
        "        nota = float(input(\"Digite uma nota entre zero e dez: \"))\n",
        "        if 0 <= nota <= 10:\n",
        "            print(\"Nota válida.\")\n",
        "            break\n",
        "        else:\n",
        "            print(\"Nota inválida. Por favor, digite uma nota entre zero e dez.\")\n",
        "\n",
        "verificar_nota()"
      ],
      "metadata": {
        "colab": {
          "base_uri": "https://localhost:8080/"
        },
        "id": "10EvWjw7U7eK",
        "outputId": "b71c7e44-d54f-4b46-aae0-750fa0ccde72"
      },
      "execution_count": null,
      "outputs": [
        {
          "output_type": "stream",
          "name": "stdout",
          "text": [
            "Digite uma nota entre zero e dez: 6\n",
            "Nota válida.\n"
          ]
        }
      ]
    },
    {
      "cell_type": "code",
      "source": [
        "def calcular_desconto(valor_compra):\n",
        "    desconto = 0\n",
        "    if valor_compra > 500:\n",
        "        valor_excedente = valor_compra - 500\n",
        "        desconto = min(valor_excedente // 100, 25)  # Limita o desconto máximo a 25%\n",
        "    return desconto\n",
        "\n",
        "def exibir_tabela_descontos():\n",
        "    print(\"Valor da compra - Porcentagem de desconto - Valor final\")\n",
        "    for valor_compra in range(500, 1001, 100):  # De 500 a 1000 em incrementos de 100\n",
        "        desconto = calcular_desconto(valor_compra)\n",
        "        valor_final = valor_compra * (1 - desconto / 100)\n",
        "        print(f\"R${valor_compra:.2f} - {desconto}% - R${valor_final:.2f}\")\n",
        "\n",
        "exibir_tabela_descontos()"
      ],
      "metadata": {
        "colab": {
          "base_uri": "https://localhost:8080/"
        },
        "id": "NEG33bMFVQ5e",
        "outputId": "b752eaa1-1fba-4582-f84a-c35dc481b56a"
      },
      "execution_count": null,
      "outputs": [
        {
          "output_type": "stream",
          "name": "stdout",
          "text": [
            "Valor da compra - Porcentagem de desconto - Valor final\n",
            "R$500.00 - 0% - R$500.00\n",
            "R$600.00 - 1% - R$594.00\n",
            "R$700.00 - 2% - R$686.00\n",
            "R$800.00 - 3% - R$776.00\n",
            "R$900.00 - 4% - R$864.00\n",
            "R$1000.00 - 5% - R$950.00\n"
          ]
        }
      ]
    },
    {
      "cell_type": "code",
      "source": [
        "def calcular_faixas_etarias(idades):\n",
        "    faixas_etarias = {\n",
        "        \"Até 15 anos\": 0,\n",
        "        \"De 16 a 30 anos\": 0,\n",
        "        \"De 31 a 45 anos\": 0,\n",
        "        \"De 46 a 60 anos\": 0,\n",
        "        \"Acima de 61 anos\": 0\n",
        "    }\n",
        "\n",
        "    for idade in idades:\n",
        "        if idade <= 15:\n",
        "            faixas_etarias[\"Até 15 anos\"] += 1\n",
        "        elif idade <= 30:\n",
        "            faixas_etarias[\"De 16 a 30 anos\"] += 1\n",
        "        elif idade <= 45:\n",
        "            faixas_etarias[\"De 31 a 45 anos\"] += 1\n",
        "        elif idade <= 60:\n",
        "            faixas_etarias[\"De 46 a 60 anos\"] += 1\n",
        "        else:\n",
        "            faixas_etarias[\"Acima de 61 anos\"] += 1\n",
        "\n",
        "    return faixas_etarias\n",
        "\n",
        "def calcular_porcentagem(primeira_faixa, ultima_faixa, total_pessoas):\n",
        "    percentual_primeira_faixa = (primeira_faixa / total_pessoas) * 100\n",
        "    percentual_ultima_faixa = (ultima_faixa / total_pessoas) * 100\n",
        "    return percentual_primeira_faixa, percentual_ultima_faixa\n",
        "\n",
        "idades = []\n",
        "for i in range(15):\n",
        "    idade = int(input(f\"Digite a idade da pessoa {i + 1}: \"))\n",
        "    idades.append(idade)\n",
        "\n",
        "faixas_etarias = calcular_faixas_etarias(idades)\n",
        "total_pessoas = sum(faixas_etarias.values())\n",
        "\n",
        "print(\"\\nQuantidade de pessoas em cada faixa etária:\")\n",
        "for faixa, quantidade in faixas_etarias.items():\n",
        "    print(f\"{faixa}: {quantidade}\")\n",
        "\n",
        "percentual_primeira_faixa, percentual_ultima_faixa = calcular_porcentagem(\n",
        "    faixas_etarias[\"Até 15 anos\"],\n",
        "    faixas_etarias[\"Acima de 61 anos\"],\n",
        "    total_pessoas\n",
        ")\n",
        "\n",
        "print(f\"\\nPercentual de pessoas na primeira faixa etária (Até 15 anos): {percentual_primeira_faixa:.2f}%\")\n",
        "print(f\"Percentual de pessoas na última faixa etária (Acima de 61 anos): {percentual_ultima_faixa:.2f}%\")6"
      ],
      "metadata": {
        "colab": {
          "base_uri": "https://localhost:8080/"
        },
        "id": "zQ5kI0DWVV-o",
        "outputId": "7f269555-d44e-4682-802e-251cb6107ae4"
      },
      "execution_count": null,
      "outputs": [
        {
          "output_type": "stream",
          "name": "stdout",
          "text": [
            "Digite a idade da pessoa 1: 21\n",
            "Digite a idade da pessoa 2: 18\n",
            "Digite a idade da pessoa 3: 42\n",
            "Digite a idade da pessoa 4: 76\n",
            "Digite a idade da pessoa 5: 12\n",
            "Digite a idade da pessoa 6: 15\n",
            "Digite a idade da pessoa 7: 98\n",
            "Digite a idade da pessoa 8: 65\n",
            "Digite a idade da pessoa 9: 54\n",
            "Digite a idade da pessoa 10: 34\n",
            "Digite a idade da pessoa 11: 23\n",
            "Digite a idade da pessoa 12: 55\n",
            "Digite a idade da pessoa 13: 42\n",
            "Digite a idade da pessoa 14: 11\n",
            "Digite a idade da pessoa 15: 13\n",
            "\n",
            "Quantidade de pessoas em cada faixa etária:\n",
            "Até 15 anos: 4\n",
            "De 16 a 30 anos: 3\n",
            "De 31 a 45 anos: 3\n",
            "De 46 a 60 anos: 2\n",
            "Acima de 61 anos: 3\n",
            "\n",
            "Percentual de pessoas na primeira faixa etária (Até 15 anos): 26.67%\n",
            "Percentual de pessoas na última faixa etária (Acima de 61 anos): 20.00%\n"
          ]
        }
      ]
    },
    {
      "cell_type": "code",
      "source": [
        "def calcular_potencia(base, expoente):\n",
        "    resultado = 1\n",
        "    for _ in range(expoente):\n",
        "        resultado *= base\n",
        "    return resultado\n",
        "\n",
        "base = float(input(\"Digite a base: \"))\n",
        "expoente = int(input(\"Digite o expoente: \"))\n",
        "\n",
        "resultado = calcular_potencia(base, expoente)\n",
        "print(f\"{base} elevado a {expoente} é igual a {resultado}\")"
      ],
      "metadata": {
        "colab": {
          "base_uri": "https://localhost:8080/"
        },
        "id": "sbCgORk3V6YO",
        "outputId": "d8391ce6-fa29-447a-8767-a14667a09104"
      },
      "execution_count": null,
      "outputs": [
        {
          "output_type": "stream",
          "name": "stdout",
          "text": [
            "Digite a base: 23\n",
            "Digite o expoente: 0\n",
            "23.0 elevado a 0 é igual a 1\n"
          ]
        }
      ]
    },
    {
      "cell_type": "code",
      "source": [
        "def encontrar_primos(N):\n",
        "    numeros = [True] * (N + 1)  # Inicializa uma lista de booleanos onde True indica número primo\n",
        "    numeros[0] = numeros[1] = False  # 0 e 1 não são primos\n",
        "\n",
        "    # Marca os múltiplos dos números primos como não primos\n",
        "    for i in range(2, int(N ** 0.5) + 1):\n",
        "        if numeros[i]:\n",
        "            for j in range(i * i, N + 1, i):\n",
        "                numeros[j] = False\n",
        "\n",
        "    # Exibe os números primos e conta o número de divisões\n",
        "    primos = []\n",
        "    divisoes = 0\n",
        "    for i in range(2, N + 1):\n",
        "        if numeros[i]:\n",
        "            primos.append(i)\n",
        "            divisoes += 1\n",
        "\n",
        "    return primos, divisoes\n",
        "\n",
        "# Solicita ao usuário que insira o valor de N\n",
        "N = int(input(\"Digite um número inteiro N para encontrar todos os primos até N: \"))\n",
        "\n",
        "# Encontra os números primos e o número de divisões\n",
        "primos, divisoes = encontrar_primos(N)\n",
        "\n",
        "# Exibe os números primos e o número de divisões\n",
        "print(\"Números primos encontrados:\")\n",
        "print(primos)\n",
        "print(\"Número total de divisões realizadas:\", divisoes)"
      ],
      "metadata": {
        "colab": {
          "base_uri": "https://localhost:8080/"
        },
        "id": "22plaawHWNGj",
        "outputId": "b74894ad-1028-4a43-edcf-72bbe49f96e5"
      },
      "execution_count": null,
      "outputs": [
        {
          "output_type": "stream",
          "name": "stdout",
          "text": [
            "Digite um número inteiro N para encontrar todos os primos até N: 1\n",
            "Números primos encontrados:\n",
            "[]\n",
            "Número total de divisões realizadas: 0\n"
          ]
        }
      ]
    }
  ]
}