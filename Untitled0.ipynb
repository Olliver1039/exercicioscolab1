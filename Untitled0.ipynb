{
  "nbformat": 4,
  "nbformat_minor": 0,
  "metadata": {
    "colab": {
      "provenance": []
    },
    "kernelspec": {
      "name": "python3",
      "display_name": "Python 3"
    },
    "language_info": {
      "name": "python"
    }
  },
  "cells": [
    {
      "cell_type": "code",
      "source": [
        "numero1 = float(input(\"Digite o primeiro número: 5 \"))\n",
        "numero2 = float(input(\"Digite o segundo número: 8 \"))\n",
        "\n",
        "# Verifica qual número é o maior usando if-else\n",
        "if line5 > line: 5\n",
        "else:\n",
        "    maior_numero = numero 8\n",
        "\n",
        "print(\"O maior número é:8\", maior_numero)\n"
      ],
      "metadata": {
        "colab": {
          "base_uri": "https://localhost:8080/",
          "height": 106
        },
        "id": "UP71QKCubKSA",
        "outputId": "1ab9fa13-13df-4d58-ff5e-0b1e98be5195"
      },
      "execution_count": 1,
      "outputs": [
        {
          "output_type": "error",
          "ename": "SyntaxError",
          "evalue": "invalid syntax (<ipython-input-1-275604e6edb1>, line 7)",
          "traceback": [
            "\u001b[0;36m  File \u001b[0;32m\"<ipython-input-1-275604e6edb1>\"\u001b[0;36m, line \u001b[0;32m7\u001b[0m\n\u001b[0;31m    maior_numero = numero 8\u001b[0m\n\u001b[0m                          ^\u001b[0m\n\u001b[0;31mSyntaxError\u001b[0m\u001b[0;31m:\u001b[0m invalid syntax\n"
          ]
        }
      ]
    },
    {
      "cell_type": "code",
      "source": [
        "# Solicita ao usuário para digitar o primeiro número e armazena o valor em 'a'\n",
        "a = float(input(\"Digite o primeiro número: 8 \"))\n",
        "\n",
        "# Solicita ao usuário para digitar o segundo número e armazena o valor em 'b'\n",
        "b = float(input(\"Digite o segundo número: 8 \"))\n",
        "\n",
        "# Verifica qual número é o maior usando if-else\n",
        "if a > b:\n",
        "    maior_numero = 8\n",
        "else:\n",
        "    maior_numero = 8\n"
      ],
      "metadata": {
        "colab": {
          "base_uri": "https://localhost:8080/"
        },
        "id": "oxG4-ysJbLTF",
        "outputId": "91f5293b-66d5-477e-a3d7-b6ec9edc7eec"
      },
      "execution_count": 2,
      "outputs": [
        {
          "name": "stdout",
          "output_type": "stream",
          "text": [
            "Digite o primeiro número: 8 8\n",
            "Digite o segundo número: 8 10\n"
          ]
        }
      ]
    },
    {
      "cell_type": "code",
      "source": [
        "\n",
        "\n",
        "print(\"O maior número é: 8 \", maior_numero)\n",
        "numero = int(input(\"Digite um número: 8 \"))\n",
        "\n",
        "# Imprime o número inteiro digitado pelo usuário\n",
        "print(\"O número digitado foi: 8 \", numero)\n",
        "genero = input(\"Digite 'M' para Masculino ou 'F' para Feminino: \")\n",
        "\n",
        "if genero == 'M' or genero == 'm':\n",
        "    print(\"Você selecionou Masculino.\")\n",
        "elif genero == 'F' or genero == 'f':\n",
        "    print(\"Você selecionou Feminino.\")\n"
      ],
      "metadata": {
        "colab": {
          "base_uri": "https://localhost:8080/"
        },
        "id": "zCiBGXpGbOq6",
        "outputId": "681fdc51-dfe6-4123-9540-f2c4951f07f3"
      },
      "execution_count": null,
      "outputs": [
        {
          "output_type": "stream",
          "name": "stdout",
          "text": [
            "O maior número é: 8  8\n"
          ]
        }
      ]
    },
    {
      "cell_type": "code",
      "source": [
        "entrada = input(\"Digite 'M' para Masculino: \")\n",
        "\n",
        "# Verifica se a entrada é \"M\" (Masculino) e imprime uma mensagem correspondente\n",
        "if entrada.upper() == 'M':\n",
        "    print(\"Você selecionou Masculino.\")\n",
        "else:\n",
        "    print(\"Entrada inválida. Por favor, digite 'M' para Masculino.\")"
      ],
      "metadata": {
        "colab": {
          "base_uri": "https://localhost:8080/"
        },
        "id": "wEQj80kccrEN",
        "outputId": "44cf99ab-2692-4b0c-bc72-d980eee1e0d8"
      },
      "execution_count": null,
      "outputs": [
        {
          "output_type": "stream",
          "name": "stdout",
          "text": [
            "Digite 'M' para Masculino: m\n",
            "Você selecionou Masculino.\n"
          ]
        }
      ]
    },
    {
      "cell_type": "code",
      "source": [
        "# Solicita ao usuário que digite uma letra\n",
        "letra = input(\"Digite uma letra: \")\n",
        "\n",
        "# Verifica se o comprimento da entrada é igual a 1 (ou seja, se é realmente uma única letra)\n",
        "if len(letra) == 1:\n",
        "    print(\"Você digitou a letra:\", letra)\n",
        "else:\n",
        "    print(\"Entrada inválida. Por favor, digite apenas uma letra.\")[e]"
      ],
      "metadata": {
        "colab": {
          "base_uri": "https://localhost:8080/"
        },
        "id": "jTlZDbNYkBxA",
        "outputId": "b64f6c9c-eec1-4b61-eac5-bb52b77b620f"
      },
      "execution_count": null,
      "outputs": [
        {
          "output_type": "stream",
          "name": "stdout",
          "text": [
            "Digite uma letra: e\n",
            "Você digitou a letra: e\n"
          ]
        }
      ]
    }
  ]
}