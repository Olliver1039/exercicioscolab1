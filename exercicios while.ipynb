{
  "nbformat": 4,
  "nbformat_minor": 0,
  "metadata": {
    "colab": {
      "provenance": []
    },
    "kernelspec": {
      "name": "python3",
      "display_name": "Python 3"
    },
    "language_info": {
      "name": "python"
    }
  },
  "cells": [
    {
      "cell_type": "markdown",
      "source": [],
      "metadata": {
        "id": "zFofvZw4dKNB"
      }
    },
    {
      "cell_type": "markdown",
      "source": [],
      "metadata": {
        "id": "hJZuvR6qGz-u"
      }
    },
    {
      "cell_type": "markdown",
      "source": [
        "Faça um programa que peça uma nota, entre zero e dez. Mostre uma mensagem caso o valor seja inválido e continue pedindo até que o usuário informe um valor válido."
      ],
      "metadata": {
        "id": "U8L3m2FfFcKQ"
      }
    },
    {
      "cell_type": "code",
      "execution_count": 15,
      "metadata": {
        "colab": {
          "base_uri": "https://localhost:8080/"
        },
        "id": "OVIpgHO6DYVl",
        "outputId": "7f942c16-b545-4743-bd71-f725c9959c86"
      },
      "outputs": [
        {
          "output_type": "stream",
          "name": "stdout",
          "text": [
            "digite uma nota e conrvete o valor para um ponto flutuante: -2\n",
            "digite uma senha valida: 1534\n",
            "Sucesso\n"
          ]
        }
      ],
      "source": [
        "nota = float(input(\"digite uma nota e conrvete o valor para um ponto flutuante: \"))\n",
        "while nota > 1534 or nota < 0:\n",
        "    nota = float(input(\"digite uma senha valida: \"))\n",
        "print(\"Sucesso\")"
      ]
    },
    {
      "cell_type": "markdown",
      "source": [
        "Entra em um loop enquanto a nota estiver fora do interval\n",
        "o permitido menor que 0 ou maior que 10"
      ],
      "metadata": {
        "id": "YvAyJ9CWJhf-"
      }
    },
    {
      "cell_type": "code",
      "source": [
        "linhas = (input(\"diite um numero de um a dez: \"))\n",
        "nota = int(input(\"digite novamente o numero: \"))\n",
        "contador =  0,1,2,3,4,5,6,7,8,9,10\n",
        "print(\"0,1,2,3,4,5,6,7,8,9,10\")"
      ],
      "metadata": {
        "colab": {
          "base_uri": "https://localhost:8080/"
        },
        "id": "MgnaOmneJ1aZ",
        "outputId": "5afd4933-3eb8-45ad-db17-1fbf35986298"
      },
      "execution_count": 82,
      "outputs": [
        {
          "output_type": "stream",
          "name": "stdout",
          "text": [
            "diite um numero de um a dez: 10\n",
            "digite novamente o numero: 10\n",
            "0,1,2,3,4,5,6,7,8,9,10\n"
          ]
        }
      ]
    },
    {
      "cell_type": "markdown",
      "source": [
        "Faça um programa que leia um nome de usuário e a sua senha e não aceite a senha igual ao nome do usuário, mostrando uma mensagem de erro e voltando a pedir as informações"
      ],
      "metadata": {
        "id": "WEVxHHvjNrzW"
      }
    },
    {
      "cell_type": "code",
      "source": [
        "nome = (input(\"digite um nome: \"))\n",
        "print(\"nome de usuario correto: \")\n",
        "senha = (input(\"digite uma senha: \"))\n",
        "print(\"Sucesso\")"
      ],
      "metadata": {
        "colab": {
          "base_uri": "https://localhost:8080/"
        },
        "id": "shtdZlkITySs",
        "outputId": "8330b524-a44e-40f0-afc9-10aed89f1f59"
      },
      "execution_count": 28,
      "outputs": [
        {
          "output_type": "stream",
          "name": "stdout",
          "text": [
            "digite um nome: olliver1039\n",
            "nome de usuario correto: \n",
            "digite uma senha: rofuls12\n",
            "Sucesso\n"
          ]
        }
      ]
    },
    {
      "cell_type": "markdown",
      "source": [
        "Faça programa que leia um nome de usuário e a sua senha e não aceite a senha igual ao nome do usuário, mostrando uma mensagem de erro e voltando a pedir as informações"
      ],
      "metadata": {
        "id": "h97lpLhzWVL4"
      }
    },
    {
      "cell_type": "code",
      "source": [
        "usuario = (input(\"digite senha de usuario: \"))\n",
        "print(\"nome de usuario incorreto\")\n",
        "senha = (\"digite uma senha de 8 caracteres: \")\n",
        "print(\"erro, senha nao pode ser mesma que o nome de usuario\")"
      ],
      "metadata": {
        "colab": {
          "base_uri": "https://localhost:8080/"
        },
        "id": "h-_TS2fXWpU5",
        "outputId": "52b4e713-b0cb-4ff6-8a9d-41ba653a6b87"
      },
      "execution_count": 32,
      "outputs": [
        {
          "output_type": "stream",
          "name": "stdout",
          "text": [
            "digite senha de usuario: olliver1039\n",
            "nome de usuario incorreto\n",
            "erro, senha nao pode ser mesma que o nome de usuario\n"
          ]
        }
      ]
    },
    {
      "cell_type": "markdown",
      "source": [
        "Escreva um programa que conte de 1 a 10 e imprima cada número"
      ],
      "metadata": {
        "id": "3O5xU2SoY8wL"
      }
    },
    {
      "cell_type": "code",
      "source": [
        "numero = int(input(\"digite um numero de zero a dez: \"))\n",
        "print(\"0,1,2,3,4,5,6,7,8,9,10: \")\n",
        "int(input(\"digite\"))"
      ],
      "metadata": {
        "colab": {
          "base_uri": "https://localhost:8080/"
        },
        "id": "0wS9JENqZGoD",
        "outputId": "31bbf0ee-a587-424d-ab4c-3155409797fc"
      },
      "execution_count": 51,
      "outputs": [
        {
          "output_type": "stream",
          "name": "stdout",
          "text": [
            "digite um numero de zero a dez: 3\n",
            "0,1,2,3,4,5,6,7,8,9,10: \n"
          ]
        }
      ]
    },
    {
      "cell_type": "markdown",
      "source": [
        "Escreva um programa que solicite ao usuário que insira um número e, em\n",
        "seguida, imprima todos os números de 1 até esse número."
      ],
      "metadata": {
        "id": "ZvmBUb5Ib0xE"
      }
    },
    {
      "cell_type": "code",
      "source": [
        "numero = int(input(\"Escreva um numero que solicite ao usuario e em seguida imprima todos os numeros de 1 ate esse numero: \"))\n",
        "numero = (\"numero escolhido e 10: \")\n",
        "print(\"0, 1, 2, 3, 4, 5, 6, 7, 8, 9, 10, 11, 12, 13, 14, 15: \")\n",
        "while nota > 10 or nota < 0:\n",
        "  print(\"numero digitado e?: \")\n"
      ],
      "metadata": {
        "colab": {
          "base_uri": "https://localhost:8080/"
        },
        "id": "26pFpGOmb84u",
        "outputId": "e78f7fdd-c2cd-467f-af58-61ee169ff871"
      },
      "execution_count": 55,
      "outputs": [
        {
          "output_type": "stream",
          "name": "stdout",
          "text": [
            "Escreva um numero que solicite ao usuario e em seguida imprima todos os numeros de 1 ate esse numero: 15\n",
            "0, 1, 2, 3, 4, 5, 6, 7, 8, 9, 10, 11, 12, 13, 14, 15: \n"
          ]
        }
      ]
    },
    {
      "cell_type": "markdown",
      "source": [
        "Escreva um programa que solicite ao usuário que insira um número e, em\n",
        "seguida, imprima todos os números pares de 2 até esse número."
      ],
      "metadata": {
        "id": "rBjEdixVfRqC"
      }
    },
    {
      "cell_type": "code",
      "source": [
        "numero = int(input(\"Escreva um numero que solicite ao usuario e em seguida imprima todos os numeros de 1 ate esse numero: \"))\n",
        "numero = (\"numero escolhido e 10: \")\n",
        "print(\"0,2,4,6,8,10: \")\n",
        "while nota > 10 or nota < 0:\n",
        "  print(\"Sucesso\")"
      ],
      "metadata": {
        "colab": {
          "base_uri": "https://localhost:8080/"
        },
        "id": "45F1reorfV9g",
        "outputId": "d0d5b38b-3718-4d2b-82cd-9859afda3257"
      },
      "execution_count": 57,
      "outputs": [
        {
          "output_type": "stream",
          "name": "stdout",
          "text": [
            "Escreva um numero que solicite ao usuario e em seguida imprima todos os numeros de 1 ate esse numero: 10\n",
            "0,2,4,6,8,10: \n"
          ]
        }
      ]
    },
    {
      "cell_type": "markdown",
      "source": [
        "Escreva um programa que solicite ao usuário que insira um número e, em\n",
        "seguida, imprima a tabuada desse número até 10."
      ],
      "metadata": {
        "id": "Xa0s9HJrfw-z"
      }
    },
    {
      "cell_type": "code",
      "source": [
        "numero = int(input(\"por favor, digite um numero: \"))\n",
        "contador = 1\n",
        "while contador <=10:\n",
        "  resultado = numero * contador\n",
        "  print(f\"{numero} X {contador} = {resultado}\")\n",
        "  contador += 1"
      ],
      "metadata": {
        "colab": {
          "base_uri": "https://localhost:8080/"
        },
        "id": "cVVl0CxKfzh4",
        "outputId": "ef07be67-aebe-4ac0-b45a-64ef37298fdf"
      },
      "execution_count": 58,
      "outputs": [
        {
          "output_type": "stream",
          "name": "stdout",
          "text": [
            "por favor, digite um numero: 2\n",
            "2 X 1 = 2\n",
            "2 X 2 = 4\n",
            "2 X 3 = 6\n",
            "2 X 4 = 8\n",
            "2 X 5 = 10\n",
            "2 X 6 = 12\n",
            "2 X 7 = 14\n",
            "2 X 8 = 16\n",
            "2 X 9 = 18\n",
            "2 X 10 = 20\n"
          ]
        }
      ]
    },
    {
      "cell_type": "markdown",
      "source": [
        "Escreva um programa que solicite ao usuário que insira uma senha. O\n",
        "programa deve continuar solicitando a senha até que o usuário insira a senha\n",
        "correta."
      ],
      "metadata": {
        "id": "eW-Lqu00gPSo"
      }
    },
    {
      "cell_type": "code",
      "source": [
        "senha = (input(\"digite uma senha: \"))\n",
        "print(\"senha incorreta digite a senha novamente: \")\n",
        "senha = (input(\"digite uma senha: \"))\n",
        "print(\"senha incorreta digite a senha novamente: \")\n",
        "senha = (input(\"digite uma senha: \"))\n",
        "print(\"Sucesso\")\n"
      ],
      "metadata": {
        "colab": {
          "base_uri": "https://localhost:8080/"
        },
        "id": "3xPANiPmgRPX",
        "outputId": "e5b044f4-935e-4d2d-ab1c-c1b647e550bd"
      },
      "execution_count": 59,
      "outputs": [
        {
          "output_type": "stream",
          "name": "stdout",
          "text": [
            "digite uma senha: olliver1039\n",
            "senha incorreta digite a senha novamente: \n",
            "digite uma senha: rofuls12\n",
            "senha incorreta digite a senha novamente: \n",
            "digite uma senha: Rofuls12_\n",
            "Sucesso\n"
          ]
        }
      ]
    },
    {
      "cell_type": "markdown",
      "source": [
        "Escreva um programa que calcule a média de uma lista de números fornecida\n",
        "pelo usuário."
      ],
      "metadata": {
        "id": "hRcQou6JhDzq"
      }
    },
    {
      "cell_type": "code",
      "source": [
        "(\"numeros fornecido pelo o usiario serao os resultados da conta a baixo: \")\n",
        "print(\"some os seguintes numeros 5 + 5 e digite a baixo\")\n",
        "numeros = (input(\"numeros fornecidos pelo o usuario: \"))\n",
        "print(\"some os seguintes numeros 10 + 5 e digite a baixo\")\n",
        "numeros = (input(\"numeros fornecidos pelo o usuario: \"))\n",
        "print(\"some os seguintes numeros 10 + 10 e digite a baixo\")\n",
        "numeros = (input(\"numeros fornecidos pelo o usuario: \"))\n",
        "print(\"some os seguintes numeros 10 + 15 e digite a baixo\")\n",
        "numeros = (input(\"numeros fornecidos pelo o usuario: \"))\n",
        "print(\"resultados das contas abaixo 10,15,20,25: \")"
      ],
      "metadata": {
        "colab": {
          "base_uri": "https://localhost:8080/"
        },
        "id": "OF9PW1eWhGYb",
        "outputId": "a696373e-8184-46ec-f6e7-82989a0664f5"
      },
      "execution_count": 75,
      "outputs": [
        {
          "output_type": "stream",
          "name": "stdout",
          "text": [
            "some os seguintes numeros 5 + 5 e digite a baixo\n",
            "numeros fornecidos pelo o usuario: 10\n",
            "some os seguintes numeros 10 + 5 e digite a baixo\n",
            "numeros fornecidos pelo o usuario: 15\n",
            "some os seguintes numeros 10 + 10 e digite a baixo\n",
            "numeros fornecidos pelo o usuario: 20\n",
            "some os seguintes numeros 10 + 15 e digite a baixo\n",
            "numeros fornecidos pelo o usuario: 25\n",
            "resultados das contas abaixo 10,15,20,25: \n"
          ]
        }
      ]
    },
    {
      "cell_type": "markdown",
      "source": [
        "Escreva um programa que solicite ao usuário que insira números até que ele\n",
        "insira o número 0. Em seguida, imprima a soma de todos os números inseridos."
      ],
      "metadata": {
        "id": "mfXJEzY3jMPj"
      }
    },
    {
      "cell_type": "code",
      "source": [],
      "metadata": {
        "id": "6C3503jtjQHE"
      },
      "execution_count": null,
      "outputs": []
    }
  ]
}